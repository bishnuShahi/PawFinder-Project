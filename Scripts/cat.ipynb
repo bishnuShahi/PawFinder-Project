{
 "cells": [
  {
   "cell_type": "code",
   "execution_count": 1,
   "metadata": {
    "execution": {
     "iopub.execute_input": "2023-09-29T09:51:01.187646Z",
     "iopub.status.busy": "2023-09-29T09:51:01.187333Z",
     "iopub.status.idle": "2023-09-29T09:51:08.646790Z",
     "shell.execute_reply": "2023-09-29T09:51:08.645894Z",
     "shell.execute_reply.started": "2023-09-29T09:51:01.187591Z"
    }
   },
   "outputs": [
    {
     "name": "stderr",
     "output_type": "stream",
     "text": [
      "Using TensorFlow backend.\n"
     ]
    }
   ],
   "source": [
    "import numpy as np\n",
    "import pandas as pd\n",
    "import os, cv2, random, time, shutil, csv\n",
    "import tensorflow as tf\n",
    "import seaborn as sns\n",
    "import matplotlib.pyplot as plt\n",
    "import matplotlib.image as mpimg\n",
    "from tqdm import tqdm\n",
    "np.random.seed(42)\n",
    "%matplotlib inline \n",
    "\n",
    "import keras\n",
    "from keras.preprocessing.image import ImageDataGenerator\n",
    "from keras.models import Model\n",
    "from keras.layers import BatchNormalization, Dense, GlobalAveragePooling2D, Lambda, Dropout, InputLayer, Input\n",
    "from keras.utils import to_categorical\n",
    "from tensorflow.keras.preprocessing.image import load_img"
   ]
  },
  {
   "cell_type": "code",
   "execution_count": 2,
   "metadata": {
    "execution": {
     "iopub.execute_input": "2023-09-29T09:51:12.610733Z",
     "iopub.status.busy": "2023-09-29T09:51:12.610212Z",
     "iopub.status.idle": "2023-09-29T09:51:13.903067Z",
     "shell.execute_reply": "2023-09-29T09:51:13.902256Z",
     "shell.execute_reply.started": "2023-09-29T09:51:12.610661Z"
    }
   },
   "outputs": [
    {
     "name": "stdout",
     "output_type": "stream",
     "text": [
      "2400 labels have been written to label.csv.\n"
     ]
    }
   ],
   "source": [
    "image_directory = '/kaggle/input/cat-breed-12/images'\n",
    "\n",
    "labels = []\n",
    "\n",
    "for root, dirs, files in os.walk(image_directory):\n",
    "    for file in files:\n",
    "        image_name = file\n",
    "        breed = os.path.basename(root)\n",
    "        labels.append((image_name, breed))\n",
    "\n",
    "csv_file = 'label.csv'\n",
    "\n",
    "with open(csv_file, 'w', newline='') as file:\n",
    "    writer = csv.writer(file)\n",
    "    writer.writerow(['id', 'breed'])\n",
    "    writer.writerows(labels)\n",
    "\n",
    "print(f'{len(labels)} labels have been written to {csv_file}.')\n"
   ]
  },
  {
   "cell_type": "code",
   "execution_count": 3,
   "metadata": {
    "_cell_guid": "79c7e3d0-c299-4dcb-8224-4455121ee9b0",
    "_uuid": "d629ff2d2480ee46fbb7e2d37f6b5fab8052498a",
    "execution": {
     "iopub.execute_input": "2023-09-29T09:51:16.786231Z",
     "iopub.status.busy": "2023-09-29T09:51:16.785939Z",
     "iopub.status.idle": "2023-09-29T09:51:16.791562Z",
     "shell.execute_reply": "2023-09-29T09:51:16.790704Z",
     "shell.execute_reply.started": "2023-09-29T09:51:16.786175Z"
    }
   },
   "outputs": [],
   "source": [
    "def get_num_files(path):\n",
    "\n",
    "    if not os.path.exists(path):\n",
    "        return 0\n",
    "    return sum([len(files) for r, d, files in os.walk(path)])"
   ]
  },
  {
   "cell_type": "code",
   "execution_count": 4,
   "metadata": {
    "execution": {
     "iopub.execute_input": "2023-09-29T09:51:18.570709Z",
     "iopub.status.busy": "2023-09-29T09:51:18.570401Z",
     "iopub.status.idle": "2023-09-29T09:51:18.585320Z",
     "shell.execute_reply": "2023-09-29T09:51:18.584240Z",
     "shell.execute_reply.started": "2023-09-29T09:51:18.570656Z"
    }
   },
   "outputs": [
    {
     "name": "stdout",
     "output_type": "stream",
     "text": [
      "Data samples size:  2400\n"
     ]
    }
   ],
   "source": [
    "train_dir = '/kaggle/input/cat-breed-12/images'\n",
    "data_size = get_num_files(train_dir)\n",
    "print('Data samples size: ', data_size)"
   ]
  },
  {
   "cell_type": "code",
   "execution_count": 5,
   "metadata": {
    "execution": {
     "iopub.execute_input": "2023-09-29T09:51:21.315243Z",
     "iopub.status.busy": "2023-09-29T09:51:21.314940Z",
     "iopub.status.idle": "2023-09-29T09:51:21.346151Z",
     "shell.execute_reply": "2023-09-29T09:51:21.345271Z",
     "shell.execute_reply.started": "2023-09-29T09:51:21.315187Z"
    }
   },
   "outputs": [
    {
     "data": {
      "text/html": [
       "<div>\n",
       "<style scoped>\n",
       "    .dataframe tbody tr th:only-of-type {\n",
       "        vertical-align: middle;\n",
       "    }\n",
       "\n",
       "    .dataframe tbody tr th {\n",
       "        vertical-align: top;\n",
       "    }\n",
       "\n",
       "    .dataframe thead th {\n",
       "        text-align: right;\n",
       "    }\n",
       "</style>\n",
       "<table border=\"1\" class=\"dataframe\">\n",
       "  <thead>\n",
       "    <tr style=\"text-align: right;\">\n",
       "      <th></th>\n",
       "      <th>id</th>\n",
       "      <th>breed</th>\n",
       "    </tr>\n",
       "  </thead>\n",
       "  <tbody>\n",
       "    <tr>\n",
       "      <th>0</th>\n",
       "      <td>Ragdoll_76.jpg</td>\n",
       "      <td>Ragdoll</td>\n",
       "    </tr>\n",
       "    <tr>\n",
       "      <th>1</th>\n",
       "      <td>Ragdoll_78.jpg</td>\n",
       "      <td>Ragdoll</td>\n",
       "    </tr>\n",
       "    <tr>\n",
       "      <th>2</th>\n",
       "      <td>Ragdoll_158.jpg</td>\n",
       "      <td>Ragdoll</td>\n",
       "    </tr>\n",
       "    <tr>\n",
       "      <th>3</th>\n",
       "      <td>Ragdoll_79.jpg</td>\n",
       "      <td>Ragdoll</td>\n",
       "    </tr>\n",
       "    <tr>\n",
       "      <th>4</th>\n",
       "      <td>Ragdoll_122.jpg</td>\n",
       "      <td>Ragdoll</td>\n",
       "    </tr>\n",
       "  </tbody>\n",
       "</table>\n",
       "</div>"
      ],
      "text/plain": [
       "                id    breed\n",
       "0   Ragdoll_76.jpg  Ragdoll\n",
       "1   Ragdoll_78.jpg  Ragdoll\n",
       "2  Ragdoll_158.jpg  Ragdoll\n",
       "3   Ragdoll_79.jpg  Ragdoll\n",
       "4  Ragdoll_122.jpg  Ragdoll"
      ]
     },
     "execution_count": 5,
     "metadata": {},
     "output_type": "execute_result"
    }
   ],
   "source": [
    "\n",
    "labels_dataframe = pd.read_csv('/kaggle/working/label.csv')\n",
    "labels_dataframe.head(5)"
   ]
  },
  {
   "cell_type": "code",
   "execution_count": 6,
   "metadata": {
    "execution": {
     "iopub.execute_input": "2023-09-29T09:51:23.562801Z",
     "iopub.status.busy": "2023-09-29T09:51:23.562467Z",
     "iopub.status.idle": "2023-09-29T09:51:23.572304Z",
     "shell.execute_reply": "2023-09-29T09:51:23.571431Z",
     "shell.execute_reply.started": "2023-09-29T09:51:23.562746Z"
    }
   },
   "outputs": [
    {
     "name": "stdout",
     "output_type": "stream",
     "text": [
      "12\n"
     ]
    },
    {
     "data": {
      "text/plain": [
       "['Abyssinian',\n",
       " 'Bengal',\n",
       " 'Birman',\n",
       " 'Bombay',\n",
       " 'British',\n",
       " 'Egyptian',\n",
       " 'Maine',\n",
       " 'Persian',\n",
       " 'Ragdoll',\n",
       " 'Russian']"
      ]
     },
     "execution_count": 6,
     "metadata": {},
     "output_type": "execute_result"
    }
   ],
   "source": [
    "cat_breeds = sorted(list(set(labels_dataframe['breed'])))\n",
    "n_classes = len(cat_breeds)\n",
    "print(n_classes)\n",
    "dog_breeds[:10]"
   ]
  },
  {
   "cell_type": "code",
   "execution_count": 7,
   "metadata": {
    "execution": {
     "iopub.execute_input": "2023-09-29T09:51:25.608682Z",
     "iopub.status.busy": "2023-09-29T09:51:25.608378Z",
     "iopub.status.idle": "2023-09-29T09:51:25.614259Z",
     "shell.execute_reply": "2023-09-29T09:51:25.613426Z",
     "shell.execute_reply.started": "2023-09-29T09:51:25.608628Z"
    }
   },
   "outputs": [
    {
     "data": {
      "text/plain": [
       "{'Abyssinian': 0,\n",
       " 'Bengal': 1,\n",
       " 'Birman': 2,\n",
       " 'Bombay': 3,\n",
       " 'British': 4,\n",
       " 'Egyptian': 5,\n",
       " 'Maine': 6,\n",
       " 'Persian': 7,\n",
       " 'Ragdoll': 8,\n",
       " 'Russian': 9,\n",
       " 'Siamese': 10,\n",
       " 'Sphynx': 11}"
      ]
     },
     "execution_count": 7,
     "metadata": {},
     "output_type": "execute_result"
    }
   ],
   "source": [
    "#Map each label string to an integer label.\n",
    "class_to_num = dict(zip(cat_breeds, range(n_classes)))\n",
    "class_to_num"
   ]
  },
  {
   "cell_type": "code",
   "execution_count": 8,
   "metadata": {
    "execution": {
     "iopub.execute_input": "2023-09-29T09:51:27.548992Z",
     "iopub.status.busy": "2023-09-29T09:51:27.548681Z",
     "iopub.status.idle": "2023-09-29T09:51:27.557693Z",
     "shell.execute_reply": "2023-09-29T09:51:27.556922Z",
     "shell.execute_reply.started": "2023-09-29T09:51:27.548936Z"
    }
   },
   "outputs": [],
   "source": [
    "def images_to_array(data_dir, labels_dataframe, img_size = (224,224,3)):\n",
    "\n",
    "    images_names = labels_dataframe['id']\n",
    "    images_labels = labels_dataframe['breed']\n",
    "    data_size = len(images_names)\n",
    "\n",
    "    X = np.zeros([data_size, img_size[0], img_size[1], img_size[2]], dtype=np.uint8)\n",
    "    y = np.zeros([data_size,1], dtype=np.uint8)\n",
    "\n",
    "    for i in tqdm(range(data_size)):\n",
    "        image_name = images_names[i]\n",
    "        img_dir = os.path.join(data_dir,images_labels[i], image_name)\n",
    "        img_pixels = load_img(img_dir, target_size=img_size)\n",
    "        X[i] = img_pixels\n",
    "        \n",
    "        image_breed = images_labels[i]\n",
    "        y[i] = class_to_num[image_breed]\n",
    "    \n",
    "    y = to_categorical(y)\n",
    "   \n",
    "    ind = np.random.permutation(data_size)\n",
    "    X = X[ind]\n",
    "    y = y[ind]\n",
    "    print('Ouptut Data Size: ', X.shape)\n",
    "    print('Ouptut Label Size: ', y.shape)\n",
    "    return X, y\n",
    "\n"
   ]
  },
  {
   "cell_type": "code",
   "execution_count": 9,
   "metadata": {
    "execution": {
     "iopub.execute_input": "2023-09-29T09:51:48.500851Z",
     "iopub.status.busy": "2023-09-29T09:51:48.500555Z",
     "iopub.status.idle": "2023-09-29T09:52:18.201880Z",
     "shell.execute_reply": "2023-09-29T09:52:18.201013Z",
     "shell.execute_reply.started": "2023-09-29T09:51:48.500798Z"
    }
   },
   "outputs": [
    {
     "name": "stderr",
     "output_type": "stream",
     "text": [
      "100%|██████████| 2400/2400 [00:29<00:00, 81.20it/s]\n"
     ]
    },
    {
     "name": "stdout",
     "output_type": "stream",
     "text": [
      "Ouptut Data Size:  (2400, 224, 224, 3)\n",
      "Ouptut Label Size:  (2400, 12)\n"
     ]
    }
   ],
   "source": [
    "#img_size chosen to be 331 to suit the used architectures.\n",
    "dir = '/kaggle/input/cat-breed-12/images'\n",
    "img_size = (224,224,3)\n",
    "X, y = images_to_array(dir,labels_dataframe, img_size)"
   ]
  },
  {
   "cell_type": "code",
   "execution_count": 10,
   "metadata": {
    "execution": {
     "iopub.execute_input": "2023-09-29T09:52:18.204364Z",
     "iopub.status.busy": "2023-09-29T09:52:18.203814Z",
     "iopub.status.idle": "2023-09-29T09:52:18.211100Z",
     "shell.execute_reply": "2023-09-29T09:52:18.210238Z",
     "shell.execute_reply.started": "2023-09-29T09:52:18.204313Z"
    }
   },
   "outputs": [],
   "source": [
    "def get_features(model_name, data_preprocessor, input_size, data):\n",
    "\n",
    "    input_layer = Input(input_size)\n",
    "    preprocessor = Lambda(data_preprocessor)(input_layer)\n",
    "    base_model = model_name(weights='imagenet', include_top=False,\n",
    "                            input_shape=input_size)(preprocessor)\n",
    "    avg = GlobalAveragePooling2D()(base_model)\n",
    "    feature_extractor = Model(inputs = input_layer, outputs = avg)\n",
    "\n",
    "    feature_maps = feature_extractor.predict(data, batch_size=64, verbose=1)\n",
    "    print('Feature maps shape: ', feature_maps.shape)\n",
    "    return feature_maps"
   ]
  },
  {
   "cell_type": "code",
   "execution_count": 11,
   "metadata": {
    "execution": {
     "iopub.execute_input": "2023-09-29T09:52:18.212901Z",
     "iopub.status.busy": "2023-09-29T09:52:18.212453Z",
     "iopub.status.idle": "2023-09-29T09:52:45.010424Z",
     "shell.execute_reply": "2023-09-29T09:52:45.009442Z",
     "shell.execute_reply.started": "2023-09-29T09:52:18.212832Z"
    }
   },
   "outputs": [
    {
     "name": "stdout",
     "output_type": "stream",
     "text": [
      "Downloading data from https://github.com/fchollet/deep-learning-models/releases/download/v0.5/inception_v3_weights_tf_dim_ordering_tf_kernels_notop.h5\n",
      "87916544/87910968 [==============================] - 1s 0us/step\n",
      "2400/2400 [==============================] - 14s 6ms/step\n",
      "Feature maps shape:  (2400, 2048)\n"
     ]
    }
   ],
   "source": [
    "from keras.applications.inception_v3 import InceptionV3, preprocess_input\n",
    "inception_preprocessor = preprocess_input\n",
    "inception_features = get_features(InceptionV3,\n",
    "                                  inception_preprocessor,\n",
    "                                  img_size, X)"
   ]
  },
  {
   "cell_type": "code",
   "execution_count": 12,
   "metadata": {
    "execution": {
     "iopub.execute_input": "2023-09-29T09:52:45.013806Z",
     "iopub.status.busy": "2023-09-29T09:52:45.013216Z",
     "iopub.status.idle": "2023-09-29T09:53:03.512305Z",
     "shell.execute_reply": "2023-09-29T09:53:03.511332Z",
     "shell.execute_reply.started": "2023-09-29T09:52:45.013747Z"
    }
   },
   "outputs": [
    {
     "name": "stdout",
     "output_type": "stream",
     "text": [
      "Downloading data from https://github.com/fchollet/deep-learning-models/releases/download/v0.4/xception_weights_tf_dim_ordering_tf_kernels_notop.h5\n",
      "83689472/83683744 [==============================] - 1s 0us/step\n",
      "2400/2400 [==============================] - 12s 5ms/step\n",
      "Feature maps shape:  (2400, 2048)\n"
     ]
    }
   ],
   "source": [
    "from keras.applications.xception import Xception, preprocess_input\n",
    "xception_preprocessor = preprocess_input\n",
    "xception_features = get_features(Xception,\n",
    "                                 xception_preprocessor,\n",
    "                                 img_size, X)"
   ]
  },
  {
   "cell_type": "code",
   "execution_count": 13,
   "metadata": {
    "execution": {
     "iopub.execute_input": "2023-09-29T09:53:03.514247Z",
     "iopub.status.busy": "2023-09-29T09:53:03.513922Z",
     "iopub.status.idle": "2023-09-29T09:53:48.809430Z",
     "shell.execute_reply": "2023-09-29T09:53:48.808614Z",
     "shell.execute_reply.started": "2023-09-29T09:53:03.514184Z"
    }
   },
   "outputs": [
    {
     "name": "stdout",
     "output_type": "stream",
     "text": [
      "Downloading data from https://github.com/fchollet/deep-learning-models/releases/download/v0.7/inception_resnet_v2_weights_tf_dim_ordering_tf_kernels_notop.h5\n",
      "219062272/219055592 [==============================] - 5s 0us/step\n",
      "2400/2400 [==============================] - 20s 8ms/step\n",
      "Feature maps shape:  (2400, 1536)\n"
     ]
    }
   ],
   "source": [
    "from keras.applications.inception_resnet_v2 import InceptionResNetV2, preprocess_input\n",
    "inc_resnet_preprocessor = preprocess_input\n",
    "inc_resnet_features = get_features(InceptionResNetV2,\n",
    "                                   inc_resnet_preprocessor,\n",
    "                                   img_size, X)"
   ]
  },
  {
   "cell_type": "code",
   "execution_count": 15,
   "metadata": {
    "execution": {
     "iopub.execute_input": "2023-09-29T09:53:56.563068Z",
     "iopub.status.busy": "2023-09-29T09:53:56.562748Z",
     "iopub.status.idle": "2023-09-29T09:53:56.590839Z",
     "shell.execute_reply": "2023-09-29T09:53:56.589850Z",
     "shell.execute_reply.started": "2023-09-29T09:53:56.563009Z"
    }
   },
   "outputs": [
    {
     "name": "stdout",
     "output_type": "stream",
     "text": [
      "Final feature maps shape (2400, 5632)\n"
     ]
    }
   ],
   "source": [
    "final_features = np.concatenate([inception_features,\n",
    "                                 xception_features,\n",
    "                                 inc_resnet_features,], axis=-1)\n",
    "print('Final feature maps shape', final_features.shape)"
   ]
  },
  {
   "cell_type": "code",
   "execution_count": 16,
   "metadata": {
    "execution": {
     "iopub.execute_input": "2023-09-29T09:53:58.912897Z",
     "iopub.status.busy": "2023-09-29T09:53:58.912588Z",
     "iopub.status.idle": "2023-09-29T09:53:58.917495Z",
     "shell.execute_reply": "2023-09-29T09:53:58.916656Z",
     "shell.execute_reply.started": "2023-09-29T09:53:58.912840Z"
    }
   },
   "outputs": [],
   "source": [
    "from keras.callbacks import EarlyStopping\n",
    "EarlyStop_callback = keras.callbacks.EarlyStopping(monitor='val_loss', patience=10, restore_best_weights=True)\n",
    "my_callback=[EarlyStop_callback]"
   ]
  },
  {
   "cell_type": "code",
   "execution_count": 17,
   "metadata": {
    "execution": {
     "iopub.execute_input": "2023-09-29T09:54:01.253625Z",
     "iopub.status.busy": "2023-09-29T09:54:01.253283Z",
     "iopub.status.idle": "2023-09-29T09:54:01.259359Z",
     "shell.execute_reply": "2023-09-29T09:54:01.258578Z",
     "shell.execute_reply.started": "2023-09-29T09:54:01.253571Z"
    }
   },
   "outputs": [
    {
     "data": {
      "text/plain": [
       "(5632,)"
      ]
     },
     "execution_count": 17,
     "metadata": {},
     "output_type": "execute_result"
    }
   ],
   "source": [
    "final_features.shape[1:]"
   ]
  },
  {
   "cell_type": "code",
   "execution_count": 18,
   "metadata": {
    "execution": {
     "iopub.execute_input": "2023-09-29T09:54:05.779417Z",
     "iopub.status.busy": "2023-09-29T09:54:05.779079Z",
     "iopub.status.idle": "2023-09-29T09:54:09.179043Z",
     "shell.execute_reply": "2023-09-29T09:54:09.178389Z",
     "shell.execute_reply.started": "2023-09-29T09:54:05.779347Z"
    }
   },
   "outputs": [
    {
     "name": "stdout",
     "output_type": "stream",
     "text": [
      "Train on 2160 samples, validate on 240 samples\n",
      "Epoch 1/60\n",
      "2160/2160 [==============================] - 0s 108us/step - loss: 1.7691 - accuracy: 0.4495 - val_loss: 0.4472 - val_accuracy: 0.8542\n",
      "Epoch 2/60\n",
      "2160/2160 [==============================] - 0s 35us/step - loss: 0.6889 - accuracy: 0.7551 - val_loss: 0.2719 - val_accuracy: 0.9125\n",
      "Epoch 3/60\n",
      "2160/2160 [==============================] - 0s 34us/step - loss: 0.5034 - accuracy: 0.8199 - val_loss: 0.2221 - val_accuracy: 0.9458\n",
      "Epoch 4/60\n",
      "2160/2160 [==============================] - 0s 35us/step - loss: 0.4740 - accuracy: 0.8301 - val_loss: 0.2310 - val_accuracy: 0.9125\n",
      "Epoch 5/60\n",
      "2160/2160 [==============================] - 0s 34us/step - loss: 0.4012 - accuracy: 0.8537 - val_loss: 0.2125 - val_accuracy: 0.9292\n",
      "Epoch 6/60\n",
      "2160/2160 [==============================] - 0s 35us/step - loss: 0.3506 - accuracy: 0.8708 - val_loss: 0.1841 - val_accuracy: 0.9333\n",
      "Epoch 7/60\n",
      "2160/2160 [==============================] - 0s 65us/step - loss: 0.3298 - accuracy: 0.8801 - val_loss: 0.1731 - val_accuracy: 0.9375\n",
      "Epoch 8/60\n",
      "2160/2160 [==============================] - 0s 60us/step - loss: 0.3053 - accuracy: 0.8880 - val_loss: 0.1792 - val_accuracy: 0.9375\n",
      "Epoch 9/60\n",
      "2160/2160 [==============================] - 0s 55us/step - loss: 0.2768 - accuracy: 0.8954 - val_loss: 0.1689 - val_accuracy: 0.9458\n",
      "Epoch 10/60\n",
      "2160/2160 [==============================] - 0s 58us/step - loss: 0.2465 - accuracy: 0.9130 - val_loss: 0.1774 - val_accuracy: 0.9458\n",
      "Epoch 11/60\n",
      "2160/2160 [==============================] - 0s 49us/step - loss: 0.2458 - accuracy: 0.9116 - val_loss: 0.1943 - val_accuracy: 0.9292\n",
      "Epoch 12/60\n",
      "2160/2160 [==============================] - 0s 50us/step - loss: 0.2501 - accuracy: 0.9088 - val_loss: 0.1770 - val_accuracy: 0.9375\n",
      "Epoch 13/60\n",
      "2160/2160 [==============================] - 0s 47us/step - loss: 0.2250 - accuracy: 0.9157 - val_loss: 0.1683 - val_accuracy: 0.9542\n",
      "Epoch 14/60\n",
      "2160/2160 [==============================] - 0s 47us/step - loss: 0.2127 - accuracy: 0.9218 - val_loss: 0.1567 - val_accuracy: 0.9458\n",
      "Epoch 15/60\n",
      "2160/2160 [==============================] - 0s 46us/step - loss: 0.2103 - accuracy: 0.9222 - val_loss: 0.2088 - val_accuracy: 0.9250\n",
      "Epoch 16/60\n",
      "2160/2160 [==============================] - 0s 46us/step - loss: 0.1778 - accuracy: 0.9264 - val_loss: 0.1610 - val_accuracy: 0.9417\n",
      "Epoch 17/60\n",
      "2160/2160 [==============================] - 0s 47us/step - loss: 0.1836 - accuracy: 0.9306 - val_loss: 0.1920 - val_accuracy: 0.9250\n",
      "Epoch 18/60\n",
      "2160/2160 [==============================] - 0s 46us/step - loss: 0.1983 - accuracy: 0.9259 - val_loss: 0.1776 - val_accuracy: 0.9375\n",
      "Epoch 19/60\n",
      "2160/2160 [==============================] - 0s 45us/step - loss: 0.1837 - accuracy: 0.9278 - val_loss: 0.2042 - val_accuracy: 0.9250\n",
      "Epoch 20/60\n",
      "2160/2160 [==============================] - 0s 37us/step - loss: 0.1630 - accuracy: 0.9389 - val_loss: 0.1697 - val_accuracy: 0.9500\n",
      "Epoch 21/60\n",
      "2160/2160 [==============================] - 0s 35us/step - loss: 0.1680 - accuracy: 0.9370 - val_loss: 0.1509 - val_accuracy: 0.9458\n",
      "Epoch 22/60\n",
      "2160/2160 [==============================] - 0s 33us/step - loss: 0.1582 - accuracy: 0.9398 - val_loss: 0.1444 - val_accuracy: 0.9500\n",
      "Epoch 23/60\n",
      "2160/2160 [==============================] - 0s 34us/step - loss: 0.1439 - accuracy: 0.9440 - val_loss: 0.1581 - val_accuracy: 0.9417\n",
      "Epoch 24/60\n",
      "2160/2160 [==============================] - 0s 34us/step - loss: 0.1284 - accuracy: 0.9579 - val_loss: 0.1782 - val_accuracy: 0.9458\n",
      "Epoch 25/60\n",
      "2160/2160 [==============================] - 0s 34us/step - loss: 0.1264 - accuracy: 0.9551 - val_loss: 0.1670 - val_accuracy: 0.9375\n",
      "Epoch 26/60\n",
      "2160/2160 [==============================] - 0s 34us/step - loss: 0.1216 - accuracy: 0.9565 - val_loss: 0.1856 - val_accuracy: 0.9375\n",
      "Epoch 27/60\n",
      "2160/2160 [==============================] - 0s 34us/step - loss: 0.1348 - accuracy: 0.9486 - val_loss: 0.1781 - val_accuracy: 0.9333\n",
      "Epoch 28/60\n",
      "2160/2160 [==============================] - 0s 34us/step - loss: 0.1149 - accuracy: 0.9583 - val_loss: 0.1600 - val_accuracy: 0.9375\n",
      "Epoch 29/60\n",
      "2160/2160 [==============================] - 0s 34us/step - loss: 0.1193 - accuracy: 0.9579 - val_loss: 0.1893 - val_accuracy: 0.9333\n",
      "Epoch 30/60\n",
      "2160/2160 [==============================] - 0s 34us/step - loss: 0.1300 - accuracy: 0.9449 - val_loss: 0.1892 - val_accuracy: 0.9375\n",
      "Epoch 31/60\n",
      "2160/2160 [==============================] - 0s 34us/step - loss: 0.1155 - accuracy: 0.9583 - val_loss: 0.1743 - val_accuracy: 0.9333\n",
      "Epoch 32/60\n",
      "2160/2160 [==============================] - 0s 34us/step - loss: 0.1175 - accuracy: 0.9597 - val_loss: 0.1808 - val_accuracy: 0.9375\n"
     ]
    }
   ],
   "source": [
    "dnn = keras.models.Sequential([\n",
    "    InputLayer(final_features.shape[1:]),\n",
    "    Dropout(0.7),\n",
    "    Dense(12, activation='softmax')\n",
    "])\n",
    "\n",
    "dnn.compile(optimizer='adam',\n",
    "              loss='categorical_crossentropy',\n",
    "              metrics=['accuracy'])\n",
    "\n",
    "h = dnn.fit(final_features, y,\n",
    "            batch_size=128,\n",
    "            epochs=60,\n",
    "            validation_split=0.1,\n",
    "            callbacks=my_callback)"
   ]
  },
  {
   "cell_type": "code",
   "execution_count": 19,
   "metadata": {
    "execution": {
     "iopub.execute_input": "2023-09-29T09:54:25.905471Z",
     "iopub.status.busy": "2023-09-29T09:54:25.905133Z",
     "iopub.status.idle": "2023-09-29T09:54:25.915772Z",
     "shell.execute_reply": "2023-09-29T09:54:25.915003Z",
     "shell.execute_reply.started": "2023-09-29T09:54:25.905415Z"
    }
   },
   "outputs": [],
   "source": [
    "dnn.save_weights('cat_final_weights_5632.h5')"
   ]
  },
  {
   "cell_type": "markdown",
   "metadata": {},
   "source": [
    "Inspired by: [https://www.kaggle.com/c/dog-breed-identification/discussion/40779](http://)"
   ]
  }
 ],
 "metadata": {
  "kernelspec": {
   "display_name": "Python 3 (ipykernel)",
   "language": "python",
   "name": "python3"
  },
  "language_info": {
   "codemirror_mode": {
    "name": "ipython",
    "version": 3
   },
   "file_extension": ".py",
   "mimetype": "text/x-python",
   "name": "python",
   "nbconvert_exporter": "python",
   "pygments_lexer": "ipython3",
   "version": "3.11.3"
  }
 },
 "nbformat": 4,
 "nbformat_minor": 4
}
